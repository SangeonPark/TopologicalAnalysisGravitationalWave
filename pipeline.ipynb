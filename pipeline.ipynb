{
 "cells": [
  {
   "cell_type": "markdown",
   "metadata": {},
   "source": [
    "# Feature Extraction\n",
    "## Loading Data"
   ]
  },
  {
   "cell_type": "code",
   "execution_count": 1,
   "metadata": {},
   "outputs": [],
   "source": [
    "from main import GWAnalyzer\n",
    "\n",
    "import numpy as np\n",
    "from itertools import product\n",
    "import matplotlib.pyplot as plt\n",
    "from pathlib import Path\n",
    "import h5py"
   ]
  },
  {
   "cell_type": "code",
   "execution_count": 2,
   "metadata": {},
   "outputs": [
    {
     "name": "stdout",
     "output_type": "stream",
     "text": [
      "Keys: ['X', 'y']\n",
      "X shape: (384, 2, 3072)\n",
      "y shape: (384, 1)\n"
     ]
    }
   ],
   "source": [
    "DATA_DIR = \"./data\"; file_name = \"batch.h5\"\n",
    "\n",
    "with h5py.File(f\"{DATA_DIR}/{file_name}\", \"r\") as f:\n",
    "\n",
    "    # Print the keys (groups and datasets) in the file\n",
    "    print(\"Keys:\", list(f.keys()))\n",
    "    arr = f['X'][:]\n",
    "    labels = f['y'][:]\n",
    "    \n",
    "    \n",
    "    print(\"X shape:\", arr.shape)\n",
    "    print(\"y shape:\", labels.shape)\n",
    "    \n"
   ]
  },
  {
   "cell_type": "markdown",
   "metadata": {},
   "source": [
    "## Extract Topological Features and Save them as npy "
   ]
  },
  {
   "cell_type": "code",
   "execution_count": 3,
   "metadata": {},
   "outputs": [],
   "source": [
    "detector1 = arr[:,0,:]\n",
    "detector2 = arr[:,1,:]"
   ]
  },
  {
   "cell_type": "code",
   "execution_count": 4,
   "metadata": {},
   "outputs": [
    {
     "name": "stdout",
     "output_type": "stream",
     "text": [
      "start processing spectrograms\n"
     ]
    },
    {
     "data": {
      "application/vnd.jupyter.widget-view+json": {
       "model_id": "43ce56a9fac94e0b86d8e54ac49397fb",
       "version_major": 2,
       "version_minor": 0
      },
      "text/plain": [
       "0it [00:00, ?it/s]"
      ]
     },
     "metadata": {},
     "output_type": "display_data"
    },
    {
     "name": "stdout",
     "output_type": "stream",
     "text": [
      "Processing chunk of shape: (384, 1267, 3)\n",
      "Chunk Elapsed Time: 1.8660902976989746\n",
      "start processing point cloud features\n"
     ]
    },
    {
     "data": {
      "application/vnd.jupyter.widget-view+json": {
       "model_id": "901c9720fb034cd9aca3864a1376b332",
       "version_major": 2,
       "version_minor": 0
      },
      "text/plain": [
       "0it [00:00, ?it/s]"
      ]
     },
     "metadata": {},
     "output_type": "display_data"
    },
    {
     "name": "stdout",
     "output_type": "stream",
     "text": [
      "Processing chunk of shape: (384, 3072)\n",
      "Chunk Elapsed Time: 99.34615445137024\n",
      "Shape of the final features is (384, 30)\n"
     ]
    }
   ],
   "source": [
    "import os\n",
    "\n",
    "gwana = GWAnalyzer(detector1)\n",
    "gwana.obtain_topological_features(True, True)\n",
    "gwana.save_features(os.getcwd(), \"detector1\")"
   ]
  },
  {
   "cell_type": "code",
   "execution_count": 5,
   "metadata": {},
   "outputs": [
    {
     "name": "stdout",
     "output_type": "stream",
     "text": [
      "start processing spectrograms\n"
     ]
    },
    {
     "data": {
      "application/vnd.jupyter.widget-view+json": {
       "model_id": "9e89607717024b21be2b67dae2f99b02",
       "version_major": 2,
       "version_minor": 0
      },
      "text/plain": [
       "0it [00:00, ?it/s]"
      ]
     },
     "metadata": {},
     "output_type": "display_data"
    },
    {
     "name": "stdout",
     "output_type": "stream",
     "text": [
      "Processing chunk of shape: (384, 1395, 3)\n",
      "Chunk Elapsed Time: 2.1024577617645264\n",
      "start processing point cloud features\n"
     ]
    },
    {
     "data": {
      "application/vnd.jupyter.widget-view+json": {
       "model_id": "f8fab043843d46a3a95639468ec4f191",
       "version_major": 2,
       "version_minor": 0
      },
      "text/plain": [
       "0it [00:00, ?it/s]"
      ]
     },
     "metadata": {},
     "output_type": "display_data"
    },
    {
     "name": "stdout",
     "output_type": "stream",
     "text": [
      "Processing chunk of shape: (384, 3072)\n",
      "Chunk Elapsed Time: 101.51838612556458\n",
      "Shape of the final features is (384, 30)\n"
     ]
    }
   ],
   "source": [
    "gwana = GWAnalyzer(detector2)\n",
    "gwana.obtain_topological_features(True, True)\n",
    "gwana.save_features(os.getcwd(), \"detector2\")"
   ]
  },
  {
   "cell_type": "markdown",
   "metadata": {},
   "source": [
    "## Classification"
   ]
  },
  {
   "cell_type": "code",
   "execution_count": null,
   "metadata": {},
   "outputs": [],
   "source": []
  }
 ],
 "metadata": {
  "kernelspec": {
   "display_name": "audioId",
   "language": "python",
   "name": "python3"
  },
  "language_info": {
   "codemirror_mode": {
    "name": "ipython",
    "version": 3
   },
   "file_extension": ".py",
   "mimetype": "text/x-python",
   "name": "python",
   "nbconvert_exporter": "python",
   "pygments_lexer": "ipython3",
   "version": "3.9.20"
  }
 },
 "nbformat": 4,
 "nbformat_minor": 2
}
